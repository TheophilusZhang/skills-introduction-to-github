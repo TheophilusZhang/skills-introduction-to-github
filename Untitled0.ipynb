{
  "nbformat": 4,
  "nbformat_minor": 0,
  "metadata": {
    "colab": {
      "provenance": [],
      "authorship_tag": "ABX9TyOzW7/xkFiv+RHKojw1H3ic",
      "include_colab_link": true
    },
    "kernelspec": {
      "name": "python3",
      "display_name": "Python 3"
    },
    "language_info": {
      "name": "python"
    }
  },
  "cells": [
    {
      "cell_type": "markdown",
      "metadata": {
        "id": "view-in-github",
        "colab_type": "text"
      },
      "source": [
        "<a href=\"https://colab.research.google.com/github/TheophilusZhang/skills-introduction-to-github/blob/main/Untitled0.ipynb\" target=\"_parent\"><img src=\"https://colab.research.google.com/assets/colab-badge.svg\" alt=\"Open In Colab\"/></a>"
      ]
    },
    {
      "cell_type": "code",
      "execution_count": 1,
      "metadata": {
        "colab": {
          "base_uri": "https://localhost:8080/"
        },
        "id": "O-Vo-arNSC8u",
        "outputId": "f4c653fe-1980-4914-bb5b-59e6d5434d50"
      },
      "outputs": [
        {
          "output_type": "stream",
          "name": "stdout",
          "text": [
            "Enter your first name: Bo\n",
            "Enter your last name: Zhang\n",
            "Reversed name: Zhang Bo\n"
          ]
        }
      ],
      "source": [
        "first_name = input(\"Enter your first name: \")\n",
        "last_name = input(\"Enter your last name: \")\n",
        "\n",
        "full_name = last_name + \" \" + first_name\n",
        "print(\"Reversed name:\", full_name)\n"
      ]
    },
    {
      "cell_type": "code",
      "source": [
        "n = int(input(\"Enter an integer: \"))\n",
        "nn = int(str(n) + str(n))\n",
        "nnn = int(str(n) + str(n) + str(n))\n",
        "\n",
        "result = n + nn + nnn\n",
        "print(\"Result:\", result)\n"
      ],
      "metadata": {
        "colab": {
          "base_uri": "https://localhost:8080/"
        },
        "id": "sQBy999NSIg9",
        "outputId": "4d299de1-52d7-49bf-e0ae-b1d8b4cd774e"
      },
      "execution_count": 2,
      "outputs": [
        {
          "output_type": "stream",
          "name": "stdout",
          "text": [
            "Enter an integer: 8\n",
            "Result: 984\n"
          ]
        }
      ]
    },
    {
      "cell_type": "code",
      "source": [
        "country = input(\"What country are you from? \")\n",
        "print(\"I have heard that\", country, \"is a beautiful country!\")\n"
      ],
      "metadata": {
        "colab": {
          "base_uri": "https://localhost:8080/"
        },
        "id": "E3_dIDbgSO80",
        "outputId": "7c429a71-d3d8-40ac-ddab-3769f5d164c6"
      },
      "execution_count": 3,
      "outputs": [
        {
          "output_type": "stream",
          "name": "stdout",
          "text": [
            "What country are you from? China\n",
            "I have heard that China is a beautiful country!\n"
          ]
        }
      ]
    },
    {
      "cell_type": "markdown",
      "source": [
        "4.Since the condition (x ** 2 > 100 and y < 100) is False (10^2 = 100, which is not greater than 100), the print statement will not be executed. Therefore, there is no output for this code."
      ],
      "metadata": {
        "id": "Jt9BpU9NSpoK"
      }
    },
    {
      "cell_type": "markdown",
      "source": [
        "5.[10, 20, 30, 40]\n",
        "[10, 20, 30, 40]"
      ],
      "metadata": {
        "id": "KF3_ZFkCSvR0"
      }
    },
    {
      "cell_type": "markdown",
      "source": [
        "6.The output will be 2, and the arithmetic operator used here is the modulus operator %. The modulus operator calculates the remainder when the left operand is divided by the right operand. In this case, 2 divided by 6 gives a remainder of 2."
      ],
      "metadata": {
        "id": "mMHt9ABLS0Au"
      }
    },
    {
      "cell_type": "markdown",
      "source": [
        "7.The output will be 216, and the arithmetic operators used here are the multiplication operator * and the exponentiation operator **. The expression 3 ** 3 evaluates to 27, and then the expression is evaluated as 2 * 27 * 4, resulting in 216."
      ],
      "metadata": {
        "id": "fxbuAz8vS7UG"
      }
    },
    {
      "cell_type": "markdown",
      "source": [
        "8.A text editor is a software tool that allows users to create and modify plain text files. It provides features such as syntax highlighting, code formatting, and search/replace functionality. Examples of text editors include Notepad++, Sublime Text, and Visual Studio Code."
      ],
      "metadata": {
        "id": "sgf_imS9TCIi"
      }
    },
    {
      "cell_type": "markdown",
      "source": [
        "9.Python is a high-level, interpreted programming language that emphasizes simplicity, readability, and ease of use. It was created by Guido van Rossum and first released in 1991. Python has gained significant popularity and has become one of the most widely used programming languages in various domains, including web development, data analysis, scientific computing, artificial intelligence, and more."
      ],
      "metadata": {
        "id": "1e9liupMTZKj"
      }
    },
    {
      "cell_type": "markdown",
      "source": [
        "10.Jupyter Notebook is an open-source web application that allows you to create and share documents that contain live code, equations, visualizations, and narrative text. It provides an interactive computing environment for Python (as well as other programming languages) and is widely used for data analysis, scientific computing, and machine learning.\n",
        "\n",
        "Jupyter Notebook is an example of a web-based interactive computing environment. It allows you to write and execute code in cells, which can be individually run and reordered as needed. This notebook-based approach promotes exploratory and interactive data analysis, as well as the documentation of code and results within the same document."
      ],
      "metadata": {
        "id": "ddFbJctxTVv_"
      }
    }
  ]
}